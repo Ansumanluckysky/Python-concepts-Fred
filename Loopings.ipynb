{
 "cells": [
  {
   "cell_type": "code",
   "execution_count": 2,
   "id": "cbdd3a8e",
   "metadata": {},
   "outputs": [
    {
     "name": "stdout",
     "output_type": "stream",
     "text": [
      "Enter your namea\n",
      "Enter your nameAnsuman\n",
      "hello, Ansuman\n"
     ]
    }
   ],
   "source": [
    "min_length=2\n",
    "name=input('Enter your name')\n",
    "\n",
    "while not(len(name) >=min_length and name.isprintable() and name.isalpha()):\n",
    "    name=input('Enter your name')\n",
    "\n",
    "print(\"hello, {0}\".format(name))"
   ]
  },
  {
   "cell_type": "markdown",
   "id": "2b62e7e0",
   "metadata": {},
   "source": [
    "But here we are using name 2 times right which is not a good usage. Violated dry principle. So how can it be done?"
   ]
  },
  {
   "cell_type": "code",
   "execution_count": 3,
   "id": "a8c05170",
   "metadata": {},
   "outputs": [
    {
     "name": "stdout",
     "output_type": "stream",
     "text": [
      "Enter your nameAnsuman\n",
      "hello, Ansuman\n"
     ]
    }
   ],
   "source": [
    "min_length=2\n",
    "\n",
    "while True:\n",
    "    name=input('Enter your name')\n",
    "    if (len(name) >=min_length and name.isprintable() and name.isalpha()):\n",
    "        break\n",
    "print(\"hello, {0}\".format(name))"
   ]
  },
  {
   "cell_type": "code",
   "execution_count": 4,
   "id": "98810bc1",
   "metadata": {},
   "outputs": [
    {
     "name": "stdout",
     "output_type": "stream",
     "text": [
      "[1, 2, 3, 10]\n"
     ]
    }
   ],
   "source": [
    "l=[1,2,3]\n",
    "val=10\n",
    "\n",
    "found=False\n",
    "idx=0\n",
    "\n",
    "while idx < len(l):\n",
    "    if l[idx] == val:\n",
    "        found=True\n",
    "        break\n",
    "    idx+=1\n",
    "    \n",
    "if not found:\n",
    "    l.append(val)\n",
    "    \n",
    "print(l)"
   ]
  },
  {
   "cell_type": "code",
   "execution_count": 12,
   "id": "ff7a57fd",
   "metadata": {},
   "outputs": [
    {
     "name": "stdout",
     "output_type": "stream",
     "text": [
      "[1, 2, 3, 10]\n"
     ]
    }
   ],
   "source": [
    "l=[1,2,3]\n",
    "\n",
    "val=10\n",
    "idx=0\n",
    "\n",
    "while idx<len(l):\n",
    "    if l[idx]==val:\n",
    "        break\n",
    "    idx+=1\n",
    "else:\n",
    "    l.append(val)\n",
    "    \n",
    "print(l)"
   ]
  },
  {
   "cell_type": "code",
   "execution_count": 13,
   "id": "c25a183d",
   "metadata": {},
   "outputs": [
    {
     "name": "stdout",
     "output_type": "stream",
     "text": [
      "this always executes\n"
     ]
    }
   ],
   "source": [
    "a=10\n",
    "b=1\n",
    "\n",
    "try:\n",
    "    a/b\n",
    "except ZeroDivisionError:\n",
    "    print('division by 0')\n",
    "finally:\n",
    "    print('this always executes')"
   ]
  },
  {
   "cell_type": "code",
   "execution_count": 16,
   "id": "927ef4e3",
   "metadata": {},
   "outputs": [
    {
     "name": "stdout",
     "output_type": "stream",
     "text": [
      "---------------------\n",
      "1,1 - always executes\n",
      "1,1 - main loop\n",
      "---------------------\n",
      "2, 0 - division by 0\n",
      "2,0 - always executes\n",
      "---------------------\n",
      "3,-1 - always executes\n",
      "3,-1 - main loop\n",
      "---------------------\n",
      "4,-2 - always executes\n",
      "4,-2 - main loop\n"
     ]
    }
   ],
   "source": [
    "a=0\n",
    "b=2\n",
    "\n",
    "while a<4:\n",
    "    print('---------------------')\n",
    "    a+=1\n",
    "    b-=1\n",
    "    \n",
    "    try:\n",
    "        a/b\n",
    "    except ZeroDivisionError:\n",
    "        print(\"{0}, {1} - division by 0\".format(a,b))\n",
    "        continue\n",
    "    finally:\n",
    "        print(\"{0},{1} - always executes\".format(a,b))\n",
    "            \n",
    "    print(\"{0},{1} - main loop\".format(a,b))"
   ]
  },
  {
   "cell_type": "markdown",
   "id": "573e018f",
   "metadata": {},
   "source": [
    "a=0\n",
    "b=2\n",
    "\n",
    "while a<4:\n",
    "    print('---------------------')\n",
    "    a+=1\n",
    "    b-=1\n",
    "    \n",
    "    try:\n",
    "        a/b\n",
    "    except ZeroDivisionError:\n",
    "        print(\"{0}, {1} - division by 0\".format(a,b))\n",
    "        break\n",
    "    finally:\n",
    "        print(\"{0},{1} - always executes\".format(a,b))\n",
    "            \n",
    "    print(\"{0},{1} - main loop\".format(a,b))"
   ]
  },
  {
   "cell_type": "code",
   "execution_count": null,
   "id": "550e0d12",
   "metadata": {},
   "outputs": [],
   "source": [
    "a=0\n",
    "b=10\n",
    "\n",
    "while a<4:\n",
    "    print('---------------------')\n",
    "    a+=1\n",
    "    b-=1\n",
    "    \n",
    "    try:\n",
    "        a/b\n",
    "    except ZeroDivisionError:\n",
    "        print(\"{0}, {1} - division by 0\".format(a,b))\n",
    "        break\n",
    "    finally:\n",
    "        print(\"{0},{1} - always executes\".format(a,b))\n",
    "            \n",
    "    print(\"{0},{1} - main loop\".format(a,b))\n",
    "else:\n",
    "    print('Code executed without a zero division error')"
   ]
  },
  {
   "cell_type": "markdown",
   "id": "0bd4107b",
   "metadata": {},
   "source": [
    "In Python an iterable is an object capable of returning values one at a time. "
   ]
  },
  {
   "cell_type": "code",
   "execution_count": 20,
   "id": "7dccdba9",
   "metadata": {},
   "outputs": [
    {
     "name": "stdout",
     "output_type": "stream",
     "text": [
      "0\n",
      "1\n",
      "2\n",
      "3\n",
      "4\n"
     ]
    }
   ],
   "source": [
    "i=0 \n",
    "while i<5:\n",
    "    print(i)\n",
    "    i+=1\n",
    "i=None\n"
   ]
  },
  {
   "cell_type": "code",
   "execution_count": 21,
   "id": "a31722c0",
   "metadata": {},
   "outputs": [
    {
     "name": "stdout",
     "output_type": "stream",
     "text": [
      "0\n",
      "1\n",
      "2\n",
      "3\n",
      "4\n"
     ]
    }
   ],
   "source": [
    "for i in range(5):\n",
    "    print(i)"
   ]
  },
  {
   "cell_type": "code",
   "execution_count": 22,
   "id": "e75b9b7b",
   "metadata": {},
   "outputs": [
    {
     "name": "stdout",
     "output_type": "stream",
     "text": [
      "h\n",
      "e\n",
      "l\n",
      "l\n",
      "o\n"
     ]
    }
   ],
   "source": [
    "for c in 'hello':\n",
    "    print(c)"
   ]
  },
  {
   "cell_type": "code",
   "execution_count": 23,
   "id": "b1350d48",
   "metadata": {},
   "outputs": [
    {
     "name": "stdout",
     "output_type": "stream",
     "text": [
      "(1, 2)\n",
      "(3, 4)\n"
     ]
    }
   ],
   "source": [
    "for x in [(1,2),(3,4)]:\n",
    "    print(x)"
   ]
  },
  {
   "cell_type": "code",
   "execution_count": 24,
   "id": "da740550",
   "metadata": {},
   "outputs": [
    {
     "name": "stdout",
     "output_type": "stream",
     "text": [
      "1\n",
      "2\n",
      "3\n",
      "4\n",
      "no multiples of 7 in the range\n"
     ]
    }
   ],
   "source": [
    "for i in range(1,5):\n",
    "    print(i)\n",
    "    if i % 7 ==0:\n",
    "        print('multiple of 7 found')\n",
    "        break\n",
    "else:\n",
    "    print('no multiples of 7 in the range')"
   ]
  },
  {
   "cell_type": "code",
   "execution_count": 25,
   "id": "014d3749",
   "metadata": {},
   "outputs": [
    {
     "name": "stdout",
     "output_type": "stream",
     "text": [
      "1\n",
      "2\n",
      "3\n",
      "4\n",
      "5\n",
      "6\n",
      "7\n",
      "multiple of 7 found\n"
     ]
    }
   ],
   "source": [
    "for i in range(1,8):\n",
    "    print(i)\n",
    "    if i % 7 ==0:\n",
    "        print('multiple of 7 found')\n",
    "        break\n",
    "else:\n",
    "    print('no multiples of 7 in the range')"
   ]
  },
  {
   "cell_type": "code",
   "execution_count": 26,
   "id": "0d11babd",
   "metadata": {},
   "outputs": [
    {
     "name": "stdout",
     "output_type": "stream",
     "text": [
      "-----------------\n",
      "always run\n",
      "0\n",
      "-----------------\n",
      "always run\n",
      "1\n",
      "-----------------\n",
      "always run\n",
      "2\n",
      "-----------------\n",
      "Divided by 0\n",
      "always run\n",
      "-----------------\n",
      "always run\n",
      "4\n"
     ]
    }
   ],
   "source": [
    "for i in range(5):\n",
    "    print('-----------------')\n",
    "    try:\n",
    "        10/(i-3)\n",
    "    except ZeroDivisionError:\n",
    "        print('Divided by 0')\n",
    "        continue\n",
    "    finally:\n",
    "        print('always run')\n",
    "        \n",
    "    print(i)"
   ]
  },
  {
   "cell_type": "code",
   "execution_count": 28,
   "id": "dcc1e28e",
   "metadata": {},
   "outputs": [
    {
     "name": "stdout",
     "output_type": "stream",
     "text": [
      "0 h\n",
      "1 e\n",
      "2 l\n",
      "3 l\n",
      "4 o\n"
     ]
    }
   ],
   "source": [
    "s= 'hello'\n",
    "i=0\n",
    "for c in s:\n",
    "    print(i,c)\n",
    "    i+=1"
   ]
  },
  {
   "cell_type": "code",
   "execution_count": 29,
   "id": "a0c800f7",
   "metadata": {},
   "outputs": [
    {
     "name": "stdout",
     "output_type": "stream",
     "text": [
      "0 h\n",
      "1 e\n",
      "2 l\n",
      "3 l\n",
      "4 o\n"
     ]
    }
   ],
   "source": [
    "for i in range(len(s)):\n",
    "    print(i,s[i])\n",
    "    "
   ]
  },
  {
   "cell_type": "code",
   "execution_count": 30,
   "id": "22703064",
   "metadata": {},
   "outputs": [
    {
     "name": "stdout",
     "output_type": "stream",
     "text": [
      "0 h\n",
      "1 e\n",
      "2 l\n",
      "3 l\n",
      "4 o\n"
     ]
    }
   ],
   "source": [
    "s= 'hello'\n",
    "\n",
    "for i,c in enumerate(s):\n",
    "    print(i,c)"
   ]
  },
  {
   "cell_type": "code",
   "execution_count": null,
   "id": "fbf7ac66",
   "metadata": {},
   "outputs": [],
   "source": []
  }
 ],
 "metadata": {
  "kernelspec": {
   "display_name": "Python 3 (ipykernel)",
   "language": "python",
   "name": "python3"
  },
  "language_info": {
   "codemirror_mode": {
    "name": "ipython",
    "version": 3
   },
   "file_extension": ".py",
   "mimetype": "text/x-python",
   "name": "python",
   "nbconvert_exporter": "python",
   "pygments_lexer": "ipython3",
   "version": "3.9.13"
  }
 },
 "nbformat": 4,
 "nbformat_minor": 5
}
