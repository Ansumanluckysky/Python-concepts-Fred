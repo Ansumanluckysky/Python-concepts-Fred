{
 "cells": [
  {
   "cell_type": "code",
   "execution_count": 1,
   "id": "9d328315",
   "metadata": {},
   "outputs": [
    {
     "data": {
      "text/plain": [
       "[1, 2, 3]"
      ]
     },
     "execution_count": 1,
     "metadata": {},
     "output_type": "execute_result"
    }
   ],
   "source": [
    "a=[1,2,3]\n",
    "a\n"
   ]
  },
  {
   "cell_type": "code",
   "execution_count": 2,
   "id": "b8dfbf3b",
   "metadata": {},
   "outputs": [
    {
     "data": {
      "text/plain": [
       "[1, 2, 3]"
      ]
     },
     "execution_count": 2,
     "metadata": {},
     "output_type": "execute_result"
    }
   ],
   "source": [
    "a=[1,\n",
    "   2,\n",
    "   3]\n",
    "a"
   ]
  },
  {
   "cell_type": "code",
   "execution_count": 38,
   "id": "58133109",
   "metadata": {},
   "outputs": [
    {
     "data": {
      "text/plain": [
       "[1, 2, 3]"
      ]
     },
     "execution_count": 38,
     "metadata": {},
     "output_type": "execute_result"
    }
   ],
   "source": [
    "a=[1 #first\n",
    "  ,2 #second\n",
    "   ,3 #Third\n",
    "  \n",
    "  ]\n",
    "a"
   ]
  },
  {
   "cell_type": "code",
   "execution_count": 29,
   "id": "7da5f5f0",
   "metadata": {},
   "outputs": [],
   "source": [
    "b=[1, #first\n",
    "  2]\n"
   ]
  },
  {
   "cell_type": "code",
   "execution_count": 30,
   "id": "b1129149",
   "metadata": {},
   "outputs": [
    {
     "data": {
      "text/plain": [
       "[1, 2]"
      ]
     },
     "execution_count": 30,
     "metadata": {},
     "output_type": "execute_result"
    }
   ],
   "source": [
    "b"
   ]
  },
  {
   "cell_type": "code",
   "execution_count": 33,
   "id": "99b1a41f",
   "metadata": {},
   "outputs": [
    {
     "ename": "SyntaxError",
     "evalue": "invalid syntax (2231544552.py, line 4)",
     "output_type": "error",
     "traceback": [
      "\u001b[1;36m  File \u001b[1;32m\"C:\\Users\\Lenovo\\AppData\\Local\\Temp\\ipykernel_65580\\2231544552.py\"\u001b[1;36m, line \u001b[1;32m4\u001b[0m\n\u001b[1;33m    a\u001b[0m\n\u001b[1;37m    ^\u001b[0m\n\u001b[1;31mSyntaxError\u001b[0m\u001b[1;31m:\u001b[0m invalid syntax\n"
     ]
    }
   ],
   "source": [
    "a= {'key1':'Hi' # 1st comment\n",
    "   ,'key2':'Hello' #2nd comment\n",
    "   ,'key3':'How r u' #3rd comment}\n",
    "a"
   ]
  },
  {
   "cell_type": "code",
   "execution_count": 34,
   "id": "3d76c0fd",
   "metadata": {},
   "outputs": [
    {
     "data": {
      "text/plain": [
       "{'key1': 'Hi', 'key2': 'Hello', 'key3': 'How r u'}"
      ]
     },
     "execution_count": 34,
     "metadata": {},
     "output_type": "execute_result"
    }
   ],
   "source": [
    "a= {'key1':'Hi' # 1st comment\n",
    "   ,'key2':'Hello' #2nd comment\n",
    "   ,'key3':'How r u' #3rd comment\n",
    "   }\n",
    "a"
   ]
  },
  {
   "cell_type": "code",
   "execution_count": 36,
   "id": "73337a2f",
   "metadata": {},
   "outputs": [],
   "source": [
    "def my_func(a, #this is used\n",
    "           b, #this is second\n",
    "           c):\n",
    "    print('Hi',a,b,c)\n",
    "    "
   ]
  },
  {
   "cell_type": "code",
   "execution_count": 37,
   "id": "783f2d89",
   "metadata": {},
   "outputs": [
    {
     "name": "stdout",
     "output_type": "stream",
     "text": [
      "Hi 10 20 30\n"
     ]
    }
   ],
   "source": [
    "my_func(10,20,30)"
   ]
  },
  {
   "cell_type": "markdown",
   "id": "d2a16da4",
   "metadata": {},
   "source": [
    "## Explicit Line continuation"
   ]
  },
  {
   "cell_type": "code",
   "execution_count": 43,
   "id": "72d93b4a",
   "metadata": {},
   "outputs": [],
   "source": [
    "m=10\n",
    "n=20\n",
    "p=30"
   ]
  },
  {
   "cell_type": "code",
   "execution_count": 44,
   "id": "3eb1b5cf",
   "metadata": {},
   "outputs": [
    {
     "name": "stdout",
     "output_type": "stream",
     "text": [
      "yes\n"
     ]
    }
   ],
   "source": [
    "if m >5 and n>10 and p >20:\n",
    "    print('yes')"
   ]
  },
  {
   "cell_type": "code",
   "execution_count": 45,
   "id": "9ac40ea1",
   "metadata": {},
   "outputs": [
    {
     "ename": "SyntaxError",
     "evalue": "invalid syntax (504398349.py, line 1)",
     "output_type": "error",
     "traceback": [
      "\u001b[1;36m  File \u001b[1;32m\"C:\\Users\\Lenovo\\AppData\\Local\\Temp\\ipykernel_65580\\504398349.py\"\u001b[1;36m, line \u001b[1;32m1\u001b[0m\n\u001b[1;33m    if m >5\u001b[0m\n\u001b[1;37m            ^\u001b[0m\n\u001b[1;31mSyntaxError\u001b[0m\u001b[1;31m:\u001b[0m invalid syntax\n"
     ]
    }
   ],
   "source": [
    "if m >5 \n",
    "    and n>10\n",
    "        and p >20:\n",
    "    print('yes')"
   ]
  },
  {
   "cell_type": "code",
   "execution_count": 56,
   "id": "a6112bf7",
   "metadata": {},
   "outputs": [
    {
     "name": "stdout",
     "output_type": "stream",
     "text": [
      "yes\n"
     ]
    }
   ],
   "source": [
    "if m >5 \\\n",
    "    and n>10 \\\n",
    "    and p >20:\n",
    "    print('yes')"
   ]
  },
  {
   "cell_type": "code",
   "execution_count": 57,
   "id": "5f4ca86c",
   "metadata": {},
   "outputs": [
    {
     "data": {
      "text/plain": [
       "'This \\nis a \\nstring'"
      ]
     },
     "execution_count": 57,
     "metadata": {},
     "output_type": "execute_result"
    }
   ],
   "source": [
    "k='''This \n",
    "is a \n",
    "string'''\n",
    "k"
   ]
  },
  {
   "cell_type": "code",
   "execution_count": 58,
   "id": "eec34b07",
   "metadata": {},
   "outputs": [
    {
     "name": "stdout",
     "output_type": "stream",
     "text": [
      "This \n",
      "is a \n",
      "string\n"
     ]
    }
   ],
   "source": [
    "print(k)"
   ]
  },
  {
   "cell_type": "code",
   "execution_count": null,
   "id": "d735eeeb",
   "metadata": {},
   "outputs": [],
   "source": []
  }
 ],
 "metadata": {
  "kernelspec": {
   "display_name": "Python 3 (ipykernel)",
   "language": "python",
   "name": "python3"
  },
  "language_info": {
   "codemirror_mode": {
    "name": "ipython",
    "version": 3
   },
   "file_extension": ".py",
   "mimetype": "text/x-python",
   "name": "python",
   "nbconvert_exporter": "python",
   "pygments_lexer": "ipython3",
   "version": "3.9.13"
  }
 },
 "nbformat": 4,
 "nbformat_minor": 5
}
