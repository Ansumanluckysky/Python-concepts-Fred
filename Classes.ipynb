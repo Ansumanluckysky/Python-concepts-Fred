{
 "cells": [
  {
   "cell_type": "markdown",
   "id": "45e6c2dd",
   "metadata": {},
   "source": [
    "# Classes"
   ]
  },
  {
   "cell_type": "code",
   "execution_count": 1,
   "id": "bc6e5e13",
   "metadata": {},
   "outputs": [],
   "source": [
    "class Rectangle:\n",
    "    def __init__(self, width, height):\n",
    "        self.width = width\n",
    "        self.height = height\n",
    "        "
   ]
  },
  {
   "cell_type": "code",
   "execution_count": 3,
   "id": "78360a6a",
   "metadata": {},
   "outputs": [],
   "source": [
    "r1=Rectangle(10,20)\n"
   ]
  },
  {
   "cell_type": "code",
   "execution_count": 5,
   "id": "6eb9be60",
   "metadata": {},
   "outputs": [
    {
     "data": {
      "text/plain": [
       "10"
      ]
     },
     "execution_count": 5,
     "metadata": {},
     "output_type": "execute_result"
    }
   ],
   "source": [
    "r1.width"
   ]
  },
  {
   "cell_type": "code",
   "execution_count": 6,
   "id": "871bbf1c",
   "metadata": {},
   "outputs": [
    {
     "data": {
      "text/plain": [
       "20"
      ]
     },
     "execution_count": 6,
     "metadata": {},
     "output_type": "execute_result"
    }
   ],
   "source": [
    "r1.height"
   ]
  },
  {
   "cell_type": "code",
   "execution_count": 24,
   "id": "95561daa",
   "metadata": {},
   "outputs": [],
   "source": [
    "class Rectangle:\n",
    "    def __init__(self, width, height):\n",
    "        self.width = width\n",
    "        self.height = height\n",
    "        \n",
    "    def area(self):\n",
    "        return self.width * self.height\n",
    "    \n",
    "    def perimeter(something): # even we dont give here self then also it works.\n",
    "        return 2*(something.width+something.height)"
   ]
  },
  {
   "cell_type": "code",
   "execution_count": 21,
   "id": "41482dcd",
   "metadata": {},
   "outputs": [],
   "source": [
    "r1=Rectangle(40,30)"
   ]
  },
  {
   "cell_type": "code",
   "execution_count": 22,
   "id": "531b6031",
   "metadata": {},
   "outputs": [
    {
     "data": {
      "text/plain": [
       "1200"
      ]
     },
     "execution_count": 22,
     "metadata": {},
     "output_type": "execute_result"
    }
   ],
   "source": [
    "r1.area()"
   ]
  },
  {
   "cell_type": "code",
   "execution_count": 23,
   "id": "f6b306cc",
   "metadata": {},
   "outputs": [
    {
     "data": {
      "text/plain": [
       "140"
      ]
     },
     "execution_count": 23,
     "metadata": {},
     "output_type": "execute_result"
    }
   ],
   "source": [
    "r1.perimeter()"
   ]
  },
  {
   "cell_type": "code",
   "execution_count": 25,
   "id": "f56d257a",
   "metadata": {},
   "outputs": [
    {
     "data": {
      "text/plain": [
       "<__main__.Rectangle at 0x20a33b3aa60>"
      ]
     },
     "execution_count": 25,
     "metadata": {},
     "output_type": "execute_result"
    }
   ],
   "source": [
    "r1"
   ]
  },
  {
   "cell_type": "code",
   "execution_count": 27,
   "id": "cf45f2f5",
   "metadata": {},
   "outputs": [
    {
     "data": {
      "text/plain": [
       "'0x20a33b3aa60'"
      ]
     },
     "execution_count": 27,
     "metadata": {},
     "output_type": "execute_result"
    }
   ],
   "source": [
    "hex(id(r1))  #address"
   ]
  },
  {
   "cell_type": "code",
   "execution_count": 31,
   "id": "915fd2c9",
   "metadata": {},
   "outputs": [],
   "source": [
    "class Rectangle:\n",
    "    def __init__(self, width, height):\n",
    "        self.width = width\n",
    "        self.height = height\n",
    "        \n",
    "    def area(self):\n",
    "        return self.width * self.height\n",
    "    \n",
    "    def perimeter(self): # even we dont give here self then also it works.\n",
    "        return 2*(self.width+self.height)\n",
    "    \n",
    "    def to_string(self):\n",
    "        return 'Rectangle: width={0}, height={1}'.format(self.width, self.height)"
   ]
  },
  {
   "cell_type": "code",
   "execution_count": 33,
   "id": "0e96dbe0",
   "metadata": {},
   "outputs": [],
   "source": [
    "r1=Rectangle(10,20)\n"
   ]
  },
  {
   "cell_type": "code",
   "execution_count": 34,
   "id": "2c0900d5",
   "metadata": {},
   "outputs": [
    {
     "data": {
      "text/plain": [
       "'Rectangle: width=10, height=20'"
      ]
     },
     "execution_count": 34,
     "metadata": {},
     "output_type": "execute_result"
    }
   ],
   "source": [
    "r1.to_string()"
   ]
  },
  {
   "cell_type": "code",
   "execution_count": 36,
   "id": "0055b272",
   "metadata": {},
   "outputs": [
    {
     "data": {
      "text/plain": [
       "'<__main__.Rectangle object at 0x0000020A33B3AC10>'"
      ]
     },
     "execution_count": 36,
     "metadata": {},
     "output_type": "execute_result"
    }
   ],
   "source": [
    "str(r1) # This gives the memory address right"
   ]
  },
  {
   "cell_type": "markdown",
   "id": "261aa976",
   "metadata": {},
   "source": [
    "Now what if we would like to override the str method and provide our own defination to str. So we will use dunder method"
   ]
  },
  {
   "cell_type": "code",
   "execution_count": 44,
   "id": "86191c2f",
   "metadata": {},
   "outputs": [],
   "source": [
    "class Rectangle:\n",
    "    def __init__(self, width, height):\n",
    "        self.width = width\n",
    "        self.height = height\n",
    "        \n",
    "    def area(self):\n",
    "        return self.width * self.height\n",
    "    \n",
    "    def perimeter(self): # even we dont give here self then also it works.\n",
    "        return 2*(self.width+self.height)\n",
    "    \n",
    "    def __str__(self):\n",
    "        return 'Rectangle: width={0}, height={1}'.format(self.width, self.height)\n",
    "    \n",
    "    def __repr__(self):\n",
    "        return 'Rectangle({0},{1})'.format(self.width, self.height)"
   ]
  },
  {
   "cell_type": "code",
   "execution_count": 45,
   "id": "486c1513",
   "metadata": {},
   "outputs": [],
   "source": [
    "r1=Rectangle(10,20)"
   ]
  },
  {
   "cell_type": "code",
   "execution_count": 40,
   "id": "8371e5e8",
   "metadata": {},
   "outputs": [
    {
     "data": {
      "text/plain": [
       "'Rectangle: width=10, height=20'"
      ]
     },
     "execution_count": 40,
     "metadata": {},
     "output_type": "execute_result"
    }
   ],
   "source": [
    "str(r1) # Now we have overriden the str functionality"
   ]
  },
  {
   "cell_type": "code",
   "execution_count": 46,
   "id": "2c919110",
   "metadata": {},
   "outputs": [
    {
     "data": {
      "text/plain": [
       "Rectangle(10,20)"
      ]
     },
     "execution_count": 46,
     "metadata": {},
     "output_type": "execute_result"
    }
   ],
   "source": [
    "r1"
   ]
  },
  {
   "cell_type": "markdown",
   "id": "c205f477",
   "metadata": {},
   "source": [
    "## Earlier we used to get the memory address but now we are getting the representation right. This is due to __repr__"
   ]
  },
  {
   "cell_type": "code",
   "execution_count": 47,
   "id": "8130c62a",
   "metadata": {},
   "outputs": [],
   "source": [
    " r2= Rectangle(10,20)"
   ]
  },
  {
   "cell_type": "code",
   "execution_count": 48,
   "id": "58a76f95",
   "metadata": {},
   "outputs": [
    {
     "data": {
      "text/plain": [
       "Rectangle(10,20)"
      ]
     },
     "execution_count": 48,
     "metadata": {},
     "output_type": "execute_result"
    }
   ],
   "source": [
    "r2"
   ]
  },
  {
   "cell_type": "code",
   "execution_count": 49,
   "id": "d96f4a49",
   "metadata": {},
   "outputs": [
    {
     "data": {
      "text/plain": [
       "True"
      ]
     },
     "execution_count": 49,
     "metadata": {},
     "output_type": "execute_result"
    }
   ],
   "source": [
    "r1 is not r2"
   ]
  },
  {
   "cell_type": "code",
   "execution_count": 50,
   "id": "544d270f",
   "metadata": {},
   "outputs": [
    {
     "data": {
      "text/plain": [
       "False"
      ]
     },
     "execution_count": 50,
     "metadata": {},
     "output_type": "execute_result"
    }
   ],
   "source": [
    "r1 == r2"
   ]
  },
  {
   "cell_type": "markdown",
   "id": "8e62c980",
   "metadata": {},
   "source": [
    "So now we see that the memory location maybe different but the value is same right. So how can we make them equal. \n",
    "Again using dunder methods"
   ]
  },
  {
   "cell_type": "code",
   "execution_count": 65,
   "id": "af125c97",
   "metadata": {},
   "outputs": [],
   "source": [
    "class Rectangle:\n",
    "    def __init__(self, width, height):\n",
    "        self.width = width\n",
    "        self.height = height\n",
    "        \n",
    "    def area(self):\n",
    "        return self.width * self.height\n",
    "    \n",
    "    def perimeter(self): # even we dont give here self then also it works.\n",
    "        return 2*(self.width+self.height)\n",
    "    \n",
    "    def __str__(self):\n",
    "        return 'Rectangle: width={0}, height={1}'.format(self.width, self.height)\n",
    "    \n",
    "    def __repr__(self):\n",
    "        return 'Rectangle({0},{1})'.format(self.width, self.height)\n",
    "    \n",
    "    def __eq__(self, other):\n",
    "        return self.width== other.width and self.height==other.height"
   ]
  },
  {
   "cell_type": "code",
   "execution_count": 66,
   "id": "708201a8",
   "metadata": {},
   "outputs": [],
   "source": [
    "r1=Rectangle(10,20)\n",
    "r2=Rectangle(10,20)"
   ]
  },
  {
   "cell_type": "code",
   "execution_count": 67,
   "id": "0e4a9ca1",
   "metadata": {},
   "outputs": [
    {
     "data": {
      "text/plain": [
       "True"
      ]
     },
     "execution_count": 67,
     "metadata": {},
     "output_type": "execute_result"
    }
   ],
   "source": [
    "r1 is not r2"
   ]
  },
  {
   "cell_type": "code",
   "execution_count": 54,
   "id": "7651bcfd",
   "metadata": {},
   "outputs": [
    {
     "data": {
      "text/plain": [
       "True"
      ]
     },
     "execution_count": 54,
     "metadata": {},
     "output_type": "execute_result"
    }
   ],
   "source": [
    "r1==r2"
   ]
  },
  {
   "cell_type": "code",
   "execution_count": 68,
   "id": "0fce8d37",
   "metadata": {},
   "outputs": [
    {
     "ename": "AttributeError",
     "evalue": "'int' object has no attribute 'width'",
     "output_type": "error",
     "traceback": [
      "\u001b[1;31m---------------------------------------------------------------------------\u001b[0m",
      "\u001b[1;31mAttributeError\u001b[0m                            Traceback (most recent call last)",
      "\u001b[1;32m~\\AppData\\Local\\Temp\\ipykernel_72764\\1898360805.py\u001b[0m in \u001b[0;36m<module>\u001b[1;34m\u001b[0m\n\u001b[1;32m----> 1\u001b[1;33m \u001b[0mr1\u001b[0m\u001b[1;33m==\u001b[0m\u001b[1;36m100\u001b[0m\u001b[1;33m\u001b[0m\u001b[1;33m\u001b[0m\u001b[0m\n\u001b[0m",
      "\u001b[1;32m~\\AppData\\Local\\Temp\\ipykernel_72764\\339121407.py\u001b[0m in \u001b[0;36m__eq__\u001b[1;34m(self, other)\u001b[0m\n\u001b[0;32m     17\u001b[0m \u001b[1;33m\u001b[0m\u001b[0m\n\u001b[0;32m     18\u001b[0m     \u001b[1;32mdef\u001b[0m \u001b[0m__eq__\u001b[0m\u001b[1;33m(\u001b[0m\u001b[0mself\u001b[0m\u001b[1;33m,\u001b[0m \u001b[0mother\u001b[0m\u001b[1;33m)\u001b[0m\u001b[1;33m:\u001b[0m\u001b[1;33m\u001b[0m\u001b[1;33m\u001b[0m\u001b[0m\n\u001b[1;32m---> 19\u001b[1;33m         \u001b[1;32mreturn\u001b[0m \u001b[0mself\u001b[0m\u001b[1;33m.\u001b[0m\u001b[0mwidth\u001b[0m\u001b[1;33m==\u001b[0m \u001b[0mother\u001b[0m\u001b[1;33m.\u001b[0m\u001b[0mwidth\u001b[0m \u001b[1;32mand\u001b[0m \u001b[0mself\u001b[0m\u001b[1;33m.\u001b[0m\u001b[0mheight\u001b[0m\u001b[1;33m==\u001b[0m\u001b[0mother\u001b[0m\u001b[1;33m.\u001b[0m\u001b[0mheight\u001b[0m\u001b[1;33m\u001b[0m\u001b[1;33m\u001b[0m\u001b[0m\n\u001b[0m",
      "\u001b[1;31mAttributeError\u001b[0m: 'int' object has no attribute 'width'"
     ]
    }
   ],
   "source": [
    "r1==100"
   ]
  },
  {
   "cell_type": "markdown",
   "id": "1cb4f70c",
   "metadata": {},
   "source": [
    "The AttributeError you are encountering arises because you are attempting to compare an instance of the Rectangle class (r1) directly with the integer 100 using the equality operator (==). \n",
    "\n",
    "In Python, when you use the == operator between two objects, it invokes the __eq__ method of the left-hand operand's class (in this case, Rectangle). The __eq__ method in your Rectangle class is defined to compare another Rectangle object (other) based on its width and height.\n",
    "\n",
    "However, in the expression r1 == 100, 100 is an integer, not a Rectangle object. Therefore, Python tries to execute the __eq__ method of the Rectangle class, where other is 100\n",
    "\n",
    "When Python attempts to access other.width, it raises an AttributeError because integers do not have a width attribute."
   ]
  },
  {
   "cell_type": "markdown",
   "id": "87b3369f",
   "metadata": {},
   "source": [
    "So we got error since the width has no such property right. How to fix that?\n"
   ]
  },
  {
   "cell_type": "code",
   "execution_count": 60,
   "id": "bb14e081",
   "metadata": {},
   "outputs": [],
   "source": [
    "class Rectangle:\n",
    "    def __init__(self, width, height):\n",
    "        self.width = width\n",
    "        self.height = height\n",
    "        \n",
    "    def area(self):\n",
    "        return self.width * self.height\n",
    "    \n",
    "    def perimeter(self): # even we dont give here self then also it works.\n",
    "        return 2*(self.width+self.height)\n",
    "    \n",
    "    def __str__(self):\n",
    "        return 'Rectangle: width={0}, height={1}'.format(self.width, self.height)\n",
    "    \n",
    "    def __repr__(self):\n",
    "        return 'Rectangle({0},{1})'.format(self.width, self.height)\n",
    "    \n",
    "    def __eq__(self, other):\n",
    "        if isinstance(other,Rectangle):\n",
    "            return self.width== other.width and self.height==other.height\n",
    "        else:\n",
    "            return False"
   ]
  },
  {
   "cell_type": "code",
   "execution_count": 61,
   "id": "f4dc2971",
   "metadata": {},
   "outputs": [],
   "source": [
    "r1=Rectangle(10,20)\n",
    "r2=Rectangle(10,20) "
   ]
  },
  {
   "cell_type": "code",
   "execution_count": 62,
   "id": "c8147df0",
   "metadata": {},
   "outputs": [
    {
     "data": {
      "text/plain": [
       "True"
      ]
     },
     "execution_count": 62,
     "metadata": {},
     "output_type": "execute_result"
    }
   ],
   "source": [
    "r1== r2"
   ]
  },
  {
   "cell_type": "code",
   "execution_count": 63,
   "id": "f9c614c9",
   "metadata": {},
   "outputs": [
    {
     "data": {
      "text/plain": [
       "False"
      ]
     },
     "execution_count": 63,
     "metadata": {},
     "output_type": "execute_result"
    }
   ],
   "source": [
    "r1==100"
   ]
  },
  {
   "cell_type": "markdown",
   "id": "8488aa9e",
   "metadata": {},
   "source": [
    "In this revised __eq__ method:\n",
    "\n",
    "It first checks if other is an instance of Rectangle using isinstance(other, Rectangle).\n",
    "\n",
    "If other is not a Rectangle object, it returns False, indicating that a comparison between r1 (a Rectangle) and 100 (an integer) should result in False.\n",
    "\n",
    "This approach prevents the AttributeError by handling non-Rectangle objects gracefully in the equality comparison."
   ]
  },
  {
   "cell_type": "markdown",
   "id": "348485dd",
   "metadata": {},
   "source": [
    "### Explanation of __eq__ Method:\n",
    "Definition:\n",
    "\n",
    "def __eq__(self, other) - defines the equality comparison method for Rectangle objects.\n",
    "\n",
    "self refers to the current instance (r1 in r1 == r2).\n",
    "other refers to the object being compared (r2 in r1 == r2).\n",
    "\n",
    "#### Comparison Logic:\n",
    "\n",
    "if isinstance(other, Rectangle): checks if other is an instance of the Rectangle class.\n",
    "\n",
    "Inside the if block:\n",
    "\n",
    "self.width == other.width compares the width of self (r1) with the width of other (r2).\n",
    "\n",
    "self.height == other.height compares the height of self (r1) with the height of other (r2).\n",
    "\n",
    "If both conditions (width and height comparison) are True, then the two Rectangle objects are considered equal.\n",
    "If other is not an instance of Rectangle (i.e., it's some other type like an integer), the method returns False.\n",
    "Usage in Comparison:\n",
    "\n",
    "When you write r1 == r2, Python calls r1.__eq__(r2).\n",
    "The __eq__ method executes and compares r1's width and height with r2's width and height to determine if they are equal."
   ]
  },
  {
   "cell_type": "code",
   "execution_count": 77,
   "id": "76f2210d",
   "metadata": {},
   "outputs": [],
   "source": [
    "class Rectangle:\n",
    "    def __init__(self, width, height):\n",
    "        self.width = width\n",
    "        self.height = height\n",
    "        \n",
    "    def area(self):\n",
    "        return self.width * self.height\n",
    "    \n",
    "    def perimeter(self): # even we dont give here self then also it works.\n",
    "        return 2*(self.width+self.height)\n",
    "    \n",
    "    def __str__(self):\n",
    "        return 'Rectangle: width={0}, height={1}'.format(self.width, self.height)\n",
    "    \n",
    "    def __repr__(self):\n",
    "        return 'Rectangle({0},{1})'.format(self.width, self.height)\n",
    "    \n",
    "    def __eq__(self, other):\n",
    "        if isinstance(other,Rectangle):\n",
    "            return self.width== other.width and self.height==other.height\n",
    "        else:\n",
    "            return False\n",
    "        \n",
    "    def __lt__(self,other):\n",
    "        if isinstance(other,Rectangle):\n",
    "            return self.area() < other.area()\n",
    "        \n",
    "        else:\n",
    "            return NotImplemented"
   ]
  },
  {
   "cell_type": "code",
   "execution_count": 88,
   "id": "71a72d58",
   "metadata": {},
   "outputs": [],
   "source": [
    "r1=Rectangle(10,20)\n",
    "r2=Rectangle(100,200) "
   ]
  },
  {
   "cell_type": "code",
   "execution_count": 89,
   "id": "bc23c131",
   "metadata": {},
   "outputs": [
    {
     "data": {
      "text/plain": [
       "True"
      ]
     },
     "execution_count": 89,
     "metadata": {},
     "output_type": "execute_result"
    }
   ],
   "source": [
    "r1 < r2"
   ]
  },
  {
   "cell_type": "code",
   "execution_count": 90,
   "id": "647ff7c7",
   "metadata": {},
   "outputs": [
    {
     "data": {
      "text/plain": [
       "True"
      ]
     },
     "execution_count": 90,
     "metadata": {},
     "output_type": "execute_result"
    }
   ],
   "source": [
    "r2>r1"
   ]
  },
  {
   "cell_type": "code",
   "execution_count": 91,
   "id": "3862a4f5",
   "metadata": {},
   "outputs": [
    {
     "ename": "TypeError",
     "evalue": "'<=' not supported between instances of 'Rectangle' and 'Rectangle'",
     "output_type": "error",
     "traceback": [
      "\u001b[1;31m---------------------------------------------------------------------------\u001b[0m",
      "\u001b[1;31mTypeError\u001b[0m                                 Traceback (most recent call last)",
      "\u001b[1;32m~\\AppData\\Local\\Temp\\ipykernel_72764\\1746515512.py\u001b[0m in \u001b[0;36m<module>\u001b[1;34m\u001b[0m\n\u001b[1;32m----> 1\u001b[1;33m \u001b[0mr1\u001b[0m \u001b[1;33m<=\u001b[0m \u001b[0mr2\u001b[0m\u001b[1;33m\u001b[0m\u001b[1;33m\u001b[0m\u001b[0m\n\u001b[0m",
      "\u001b[1;31mTypeError\u001b[0m: '<=' not supported between instances of 'Rectangle' and 'Rectangle'"
     ]
    }
   ],
   "source": [
    "r1 <= r2"
   ]
  },
  {
   "cell_type": "markdown",
   "id": "b3f24d49",
   "metadata": {},
   "source": [
    "Why Use isinstance()?\n",
    "\n",
    "Flexible Comparison: Allows the __eq__ method to handle comparisons with objects of different types gracefully.\n",
    "\n",
    "Avoid Errors: Ensures that comparisons only proceed if other is the expected type (Rectangle in this case), avoiding potential AttributeError or TypeError.\n",
    "\n",
    "Object-Oriented Design: Facilitates polymorphism, where different classes can define their own behavior for equality comparisons."
   ]
  },
  {
   "cell_type": "code",
   "execution_count": 93,
   "id": "269d8612",
   "metadata": {},
   "outputs": [],
   "source": [
    "class Rectangle:\n",
    "    def __init__(self, width, height):\n",
    "        self.width = width\n",
    "        self.height = height\n",
    "        \n",
    "    \n",
    "    def __str__(self):\n",
    "        return 'Rectangle: width={0}, height={1}'.format(self.width, self.height)\n",
    "    \n",
    "    def __repr__(self):\n",
    "        return 'Rectangle({0},{1})'.format(self.width, self.height)\n",
    "    \n",
    "    def __eq__(self, other):\n",
    "        if isinstance(other,Rectangle):\n",
    "            return self.width== other.width and self.height==other.height\n",
    "        else:\n",
    "            return False\n",
    "        "
   ]
  },
  {
   "cell_type": "code",
   "execution_count": 94,
   "id": "cfc0b09a",
   "metadata": {},
   "outputs": [],
   "source": [
    "r1= Rectangle(10,20)"
   ]
  },
  {
   "cell_type": "code",
   "execution_count": 95,
   "id": "ef09726a",
   "metadata": {},
   "outputs": [
    {
     "data": {
      "text/plain": [
       "10"
      ]
     },
     "execution_count": 95,
     "metadata": {},
     "output_type": "execute_result"
    }
   ],
   "source": [
    "r1.width"
   ]
  },
  {
   "cell_type": "code",
   "execution_count": 96,
   "id": "eeb5c5ee",
   "metadata": {},
   "outputs": [],
   "source": [
    "r1.width=-100\n"
   ]
  },
  {
   "cell_type": "code",
   "execution_count": 97,
   "id": "8f31e5ea",
   "metadata": {},
   "outputs": [
    {
     "data": {
      "text/plain": [
       "Rectangle(-100,20)"
      ]
     },
     "execution_count": 97,
     "metadata": {},
     "output_type": "execute_result"
    }
   ],
   "source": [
    "r1"
   ]
  },
  {
   "cell_type": "markdown",
   "id": "aafccc7c",
   "metadata": {},
   "source": [
    "So we set the width to -100 which doesnt make sense right. Width cant be negative. So how we implement to take only positive value. The answer is using getter and setter"
   ]
  },
  {
   "cell_type": "code",
   "execution_count": 120,
   "id": "93c56396",
   "metadata": {},
   "outputs": [],
   "source": [
    "class Rectangle:\n",
    "    def __init__(self, width, height):\n",
    "        self._width = width\n",
    "        self._height = height\n",
    "        \n",
    "    def get_width(self):\n",
    "        return self._width\n",
    "    \n",
    "    def set_width(self,width):\n",
    "        if width <=0:\n",
    "            raise ValueError('Width must be positive')\n",
    "        else:\n",
    "            self._width=width\n",
    "    \n",
    "    def __str__(self):\n",
    "        return 'Rectangle: width={0}, height={1}'.format(self._width, self._height)\n",
    "    \n",
    "    \n",
    "    def __repr__(self):\n",
    "        return 'Rectangle({0},{1})'.format(self._width, self._height)\n",
    "    \n",
    "    def __eq__(self, other):\n",
    "        if isinstance(other,Rectangle):\n",
    "            return self._width== other._width and self._height==other._height\n",
    "        else:\n",
    "            return False\n",
    "        "
   ]
  },
  {
   "cell_type": "code",
   "execution_count": 121,
   "id": "8a719bd2",
   "metadata": {},
   "outputs": [],
   "source": [
    "r1=Rectangle(10,20)"
   ]
  },
  {
   "cell_type": "code",
   "execution_count": 110,
   "id": "b28923bf",
   "metadata": {},
   "outputs": [
    {
     "ename": "AttributeError",
     "evalue": "'Rectangle' object has no attribute 'width'",
     "output_type": "error",
     "traceback": [
      "\u001b[1;31m---------------------------------------------------------------------------\u001b[0m",
      "\u001b[1;31mAttributeError\u001b[0m                            Traceback (most recent call last)",
      "\u001b[1;32m~\\AppData\\Local\\Temp\\ipykernel_72764\\1593395459.py\u001b[0m in \u001b[0;36m<module>\u001b[1;34m\u001b[0m\n\u001b[1;32m----> 1\u001b[1;33m \u001b[0mr1\u001b[0m\u001b[1;33m.\u001b[0m\u001b[0mwidth\u001b[0m\u001b[1;33m\u001b[0m\u001b[1;33m\u001b[0m\u001b[0m\n\u001b[0m",
      "\u001b[1;31mAttributeError\u001b[0m: 'Rectangle' object has no attribute 'width'"
     ]
    }
   ],
   "source": [
    "r1.width"
   ]
  },
  {
   "cell_type": "code",
   "execution_count": 111,
   "id": "5b4b78c3",
   "metadata": {},
   "outputs": [
    {
     "data": {
      "text/plain": [
       "10"
      ]
     },
     "execution_count": 111,
     "metadata": {},
     "output_type": "execute_result"
    }
   ],
   "source": [
    "r1._width"
   ]
  },
  {
   "cell_type": "markdown",
   "id": "fcac8e45",
   "metadata": {},
   "source": [
    "So here we have used private variables. We have used getters and setters also"
   ]
  },
  {
   "cell_type": "code",
   "execution_count": 112,
   "id": "79e32fbe",
   "metadata": {},
   "outputs": [
    {
     "ename": "AttributeError",
     "evalue": "'Rectangle' object has no attribute 'width'",
     "output_type": "error",
     "traceback": [
      "\u001b[1;31m---------------------------------------------------------------------------\u001b[0m",
      "\u001b[1;31mAttributeError\u001b[0m                            Traceback (most recent call last)",
      "\u001b[1;32m~\\AppData\\Local\\Temp\\ipykernel_72764\\1593395459.py\u001b[0m in \u001b[0;36m<module>\u001b[1;34m\u001b[0m\n\u001b[1;32m----> 1\u001b[1;33m \u001b[0mr1\u001b[0m\u001b[1;33m.\u001b[0m\u001b[0mwidth\u001b[0m\u001b[1;33m\u001b[0m\u001b[1;33m\u001b[0m\u001b[0m\n\u001b[0m",
      "\u001b[1;31mAttributeError\u001b[0m: 'Rectangle' object has no attribute 'width'"
     ]
    }
   ],
   "source": [
    "r1.width"
   ]
  },
  {
   "cell_type": "code",
   "execution_count": 113,
   "id": "40f03e53",
   "metadata": {},
   "outputs": [],
   "source": [
    "r1.width=-100"
   ]
  },
  {
   "cell_type": "code",
   "execution_count": 114,
   "id": "2645240c",
   "metadata": {},
   "outputs": [
    {
     "data": {
      "text/plain": [
       "-100"
      ]
     },
     "execution_count": 114,
     "metadata": {},
     "output_type": "execute_result"
    }
   ],
   "source": [
    "r1.width"
   ]
  },
  {
   "cell_type": "code",
   "execution_count": 115,
   "id": "1e3e1cfe",
   "metadata": {},
   "outputs": [
    {
     "data": {
      "text/plain": [
       "10"
      ]
     },
     "execution_count": 115,
     "metadata": {},
     "output_type": "execute_result"
    }
   ],
   "source": [
    "r1._width"
   ]
  },
  {
   "cell_type": "code",
   "execution_count": 116,
   "id": "e46fa7f0",
   "metadata": {},
   "outputs": [
    {
     "data": {
      "text/plain": [
       "Rectangle(10,20)"
      ]
     },
     "execution_count": 116,
     "metadata": {},
     "output_type": "execute_result"
    }
   ],
   "source": [
    "r1"
   ]
  },
  {
   "cell_type": "code",
   "execution_count": 117,
   "id": "96e51a7c",
   "metadata": {},
   "outputs": [
    {
     "data": {
      "text/plain": [
       "10"
      ]
     },
     "execution_count": 117,
     "metadata": {},
     "output_type": "execute_result"
    }
   ],
   "source": [
    "r1.get_width() # In this way we should be accessing the widith that the variable way"
   ]
  },
  {
   "cell_type": "code",
   "execution_count": 122,
   "id": "bd9bf039",
   "metadata": {},
   "outputs": [
    {
     "ename": "ValueError",
     "evalue": "Width must be positive",
     "output_type": "error",
     "traceback": [
      "\u001b[1;31m---------------------------------------------------------------------------\u001b[0m",
      "\u001b[1;31mValueError\u001b[0m                                Traceback (most recent call last)",
      "\u001b[1;32m~\\AppData\\Local\\Temp\\ipykernel_72764\\829150497.py\u001b[0m in \u001b[0;36m<module>\u001b[1;34m\u001b[0m\n\u001b[1;32m----> 1\u001b[1;33m \u001b[0mr1\u001b[0m\u001b[1;33m.\u001b[0m\u001b[0mset_width\u001b[0m\u001b[1;33m(\u001b[0m\u001b[1;33m-\u001b[0m\u001b[1;36m100\u001b[0m\u001b[1;33m)\u001b[0m\u001b[1;33m\u001b[0m\u001b[1;33m\u001b[0m\u001b[0m\n\u001b[0m",
      "\u001b[1;32m~\\AppData\\Local\\Temp\\ipykernel_72764\\76943089.py\u001b[0m in \u001b[0;36mset_width\u001b[1;34m(self, width)\u001b[0m\n\u001b[0;32m      9\u001b[0m     \u001b[1;32mdef\u001b[0m \u001b[0mset_width\u001b[0m\u001b[1;33m(\u001b[0m\u001b[0mself\u001b[0m\u001b[1;33m,\u001b[0m\u001b[0mwidth\u001b[0m\u001b[1;33m)\u001b[0m\u001b[1;33m:\u001b[0m\u001b[1;33m\u001b[0m\u001b[1;33m\u001b[0m\u001b[0m\n\u001b[0;32m     10\u001b[0m         \u001b[1;32mif\u001b[0m \u001b[0mwidth\u001b[0m \u001b[1;33m<=\u001b[0m\u001b[1;36m0\u001b[0m\u001b[1;33m:\u001b[0m\u001b[1;33m\u001b[0m\u001b[1;33m\u001b[0m\u001b[0m\n\u001b[1;32m---> 11\u001b[1;33m             \u001b[1;32mraise\u001b[0m \u001b[0mValueError\u001b[0m\u001b[1;33m(\u001b[0m\u001b[1;34m'Width must be positive'\u001b[0m\u001b[1;33m)\u001b[0m\u001b[1;33m\u001b[0m\u001b[1;33m\u001b[0m\u001b[0m\n\u001b[0m\u001b[0;32m     12\u001b[0m         \u001b[1;32melse\u001b[0m\u001b[1;33m:\u001b[0m\u001b[1;33m\u001b[0m\u001b[1;33m\u001b[0m\u001b[0m\n\u001b[0;32m     13\u001b[0m             \u001b[0mself\u001b[0m\u001b[1;33m.\u001b[0m\u001b[0m_width\u001b[0m\u001b[1;33m=\u001b[0m\u001b[0mwidth\u001b[0m\u001b[1;33m\u001b[0m\u001b[1;33m\u001b[0m\u001b[0m\n",
      "\u001b[1;31mValueError\u001b[0m: Width must be positive"
     ]
    }
   ],
   "source": [
    "r1.set_width(-100)"
   ]
  },
  {
   "cell_type": "code",
   "execution_count": 123,
   "id": "4b0e2c25",
   "metadata": {},
   "outputs": [],
   "source": [
    "r1.set_width(100)"
   ]
  },
  {
   "cell_type": "code",
   "execution_count": 124,
   "id": "c96fc806",
   "metadata": {},
   "outputs": [
    {
     "data": {
      "text/plain": [
       "Rectangle(100,20)"
      ]
     },
     "execution_count": 124,
     "metadata": {},
     "output_type": "execute_result"
    }
   ],
   "source": [
    "r1"
   ]
  },
  {
   "cell_type": "markdown",
   "id": "ef33d473",
   "metadata": {},
   "source": [
    "Getters and setters are methods used to access (get) and modify (set) the values of private attributes of a class. In Python, where attributes are often accessible directly from outside the class, using getters and setters can enforce encapsulation, ensuring controlled access and validation of attribute values."
   ]
  },
  {
   "cell_type": "markdown",
   "id": "271a7747",
   "metadata": {},
   "source": [
    "Getter Method (get_width()):\n",
    "\n",
    "get_width() is a method that returns the current value of _width.\n",
    "\n",
    "It provides controlled access to the _width attribute from outside the class.\n",
    "\n",
    "This method allows external code to retrieve the value of _width without directly accessing the attribute."
   ]
  },
  {
   "cell_type": "markdown",
   "id": "054a96f8",
   "metadata": {},
   "source": [
    "###  While Python does not enforce encapsulation through access control like some other languages, getters and setters provide a way to maintain data integrity, validate inputs, and encapsulate behavior within class methods. They are particularly useful in scenarios where you need to enforce constraints or modify behavior around attribute access without directly exposing internal details to external code."
   ]
  },
  {
   "cell_type": "code",
   "execution_count": 169,
   "id": "c9cc2523",
   "metadata": {},
   "outputs": [],
   "source": [
    "class Rectangle:\n",
    "    def __init__(self, width, height):\n",
    "        self._width = width\n",
    "        self._height = height\n",
    "    \n",
    "    @property\n",
    "    def widthe(self):\n",
    "        print('getting width')\n",
    "        return self._width\n",
    "    \n",
    "    @property\n",
    "    def height(self):\n",
    "        return self._height\n",
    "    \n",
    "    def __str__(self):\n",
    "        return 'Rectangle: width={0}, height={1}'.format(self._width, self._height)\n",
    "    \n",
    "    \n",
    "    def __repr__(self):\n",
    "        return 'Rectangle({0},{1})'.format(self._width, self._height)\n",
    "    \n",
    "    def __eq__(self, other):\n",
    "        if isinstance(other,Rectangle):\n",
    "            return self._width== other._width and self._height==other._height\n",
    "        else:\n",
    "            return False\n",
    "        "
   ]
  },
  {
   "cell_type": "code",
   "execution_count": 170,
   "id": "723b8332",
   "metadata": {},
   "outputs": [],
   "source": [
    "r1=Rectangle(200,20)"
   ]
  },
  {
   "cell_type": "code",
   "execution_count": 171,
   "id": "e5fb29a8",
   "metadata": {},
   "outputs": [
    {
     "data": {
      "text/plain": [
       "200"
      ]
     },
     "execution_count": 171,
     "metadata": {},
     "output_type": "execute_result"
    }
   ],
   "source": [
    "r1._width"
   ]
  },
  {
   "cell_type": "code",
   "execution_count": 163,
   "id": "0a429e2a",
   "metadata": {},
   "outputs": [],
   "source": [
    "r1._width=-100"
   ]
  },
  {
   "cell_type": "code",
   "execution_count": 167,
   "id": "34b391d2",
   "metadata": {},
   "outputs": [
    {
     "data": {
      "text/plain": [
       "<bound method Rectangle.widthe of Rectangle(-100,20)>"
      ]
     },
     "execution_count": 167,
     "metadata": {},
     "output_type": "execute_result"
    }
   ],
   "source": [
    "r1.widthe  #This will be the output which will be the function location right if @property is not given"
   ]
  },
  {
   "cell_type": "code",
   "execution_count": 168,
   "id": "e961b028",
   "metadata": {},
   "outputs": [
    {
     "name": "stdout",
     "output_type": "stream",
     "text": [
      "getting width\n"
     ]
    },
    {
     "data": {
      "text/plain": [
       "-100"
      ]
     },
     "execution_count": 168,
     "metadata": {},
     "output_type": "execute_result"
    }
   ],
   "source": [
    "r1.widthe() # we can access the function obviously "
   ]
  },
  {
   "cell_type": "code",
   "execution_count": 178,
   "id": "d4b9b3df",
   "metadata": {},
   "outputs": [
    {
     "name": "stdout",
     "output_type": "stream",
     "text": [
      "getting width\n"
     ]
    },
    {
     "data": {
      "text/plain": [
       "200"
      ]
     },
     "execution_count": 178,
     "metadata": {},
     "output_type": "execute_result"
    }
   ],
   "source": [
    "r1.widthe #THis is after setting the @property"
   ]
  },
  {
   "cell_type": "code",
   "execution_count": null,
   "id": "90c30705",
   "metadata": {},
   "outputs": [],
   "source": []
  },
  {
   "cell_type": "markdown",
   "id": "2cb8b97a",
   "metadata": {},
   "source": [
    "###  So we can see right the widthe function did ran and we did n't access the attributes directly. It was through function we accessed without breaking backward compatibility. So we no longer need getter and setters. "
   ]
  },
  {
   "cell_type": "code",
   "execution_count": 179,
   "id": "bd53500c",
   "metadata": {},
   "outputs": [],
   "source": [
    "class Rectangle:\n",
    "    def __init__(self, width, height):\n",
    "        self._width = width\n",
    "        self._height = height\n",
    "    \n",
    "    @property\n",
    "    def width(self):\n",
    "        print('getting width')\n",
    "        return self._width\n",
    "    \n",
    "    @width.setter\n",
    "    def width(self,width):\n",
    "        print('setting width')\n",
    "        if width<=0:\n",
    "            raise ValueError('Width must be positive.')\n",
    "        else:\n",
    "            self._width=width\n",
    "    \n",
    "    @property\n",
    "    def height(self):\n",
    "        return self._height\n",
    "    \n",
    "    \n",
    "    @height.setter\n",
    "    def height(self,height):\n",
    "        print('setting height')\n",
    "        if height<=0:\n",
    "            raise ValueError('Width must be positive.')\n",
    "        else:\n",
    "            self._height=height\n",
    "    \n",
    "    def __str__(self):\n",
    "        return 'Rectangle: width={0}, height={1}'.format(self._width, self._height)\n",
    "        "
   ]
  },
  {
   "cell_type": "code",
   "execution_count": 180,
   "id": "2d7583bc",
   "metadata": {},
   "outputs": [],
   "source": [
    "r1=Rectangle(500,120)"
   ]
  },
  {
   "cell_type": "code",
   "execution_count": 181,
   "id": "59f5a021",
   "metadata": {},
   "outputs": [
    {
     "name": "stdout",
     "output_type": "stream",
     "text": [
      "getting width\n"
     ]
    },
    {
     "data": {
      "text/plain": [
       "500"
      ]
     },
     "execution_count": 181,
     "metadata": {},
     "output_type": "execute_result"
    }
   ],
   "source": [
    "r1.width"
   ]
  },
  {
   "cell_type": "code",
   "execution_count": 182,
   "id": "9a5ec020",
   "metadata": {},
   "outputs": [
    {
     "data": {
      "text/plain": [
       "120"
      ]
     },
     "execution_count": 182,
     "metadata": {},
     "output_type": "execute_result"
    }
   ],
   "source": [
    "r1.height"
   ]
  },
  {
   "cell_type": "code",
   "execution_count": 183,
   "id": "2d437ee7",
   "metadata": {},
   "outputs": [
    {
     "name": "stdout",
     "output_type": "stream",
     "text": [
      "setting width\n"
     ]
    },
    {
     "ename": "ValueError",
     "evalue": "Width must be positive.",
     "output_type": "error",
     "traceback": [
      "\u001b[1;31m---------------------------------------------------------------------------\u001b[0m",
      "\u001b[1;31mValueError\u001b[0m                                Traceback (most recent call last)",
      "\u001b[1;32m~\\AppData\\Local\\Temp\\ipykernel_72764\\1834276055.py\u001b[0m in \u001b[0;36m<module>\u001b[1;34m\u001b[0m\n\u001b[1;32m----> 1\u001b[1;33m \u001b[0mr1\u001b[0m\u001b[1;33m.\u001b[0m\u001b[0mwidth\u001b[0m\u001b[1;33m=\u001b[0m\u001b[1;33m-\u001b[0m\u001b[1;36m300\u001b[0m\u001b[1;33m\u001b[0m\u001b[1;33m\u001b[0m\u001b[0m\n\u001b[0m",
      "\u001b[1;32m~\\AppData\\Local\\Temp\\ipykernel_72764\\1983141767.py\u001b[0m in \u001b[0;36mwidth\u001b[1;34m(self, width)\u001b[0m\n\u001b[0;32m     13\u001b[0m         \u001b[0mprint\u001b[0m\u001b[1;33m(\u001b[0m\u001b[1;34m'setting width'\u001b[0m\u001b[1;33m)\u001b[0m\u001b[1;33m\u001b[0m\u001b[1;33m\u001b[0m\u001b[0m\n\u001b[0;32m     14\u001b[0m         \u001b[1;32mif\u001b[0m \u001b[0mwidth\u001b[0m\u001b[1;33m<=\u001b[0m\u001b[1;36m0\u001b[0m\u001b[1;33m:\u001b[0m\u001b[1;33m\u001b[0m\u001b[1;33m\u001b[0m\u001b[0m\n\u001b[1;32m---> 15\u001b[1;33m             \u001b[1;32mraise\u001b[0m \u001b[0mValueError\u001b[0m\u001b[1;33m(\u001b[0m\u001b[1;34m'Width must be positive.'\u001b[0m\u001b[1;33m)\u001b[0m\u001b[1;33m\u001b[0m\u001b[1;33m\u001b[0m\u001b[0m\n\u001b[0m\u001b[0;32m     16\u001b[0m         \u001b[1;32melse\u001b[0m\u001b[1;33m:\u001b[0m\u001b[1;33m\u001b[0m\u001b[1;33m\u001b[0m\u001b[0m\n\u001b[0;32m     17\u001b[0m             \u001b[0mself\u001b[0m\u001b[1;33m.\u001b[0m\u001b[0m_width\u001b[0m\u001b[1;33m=\u001b[0m\u001b[0mwidth\u001b[0m\u001b[1;33m\u001b[0m\u001b[1;33m\u001b[0m\u001b[0m\n",
      "\u001b[1;31mValueError\u001b[0m: Width must be positive."
     ]
    }
   ],
   "source": [
    "r1.width=-300"
   ]
  },
  {
   "cell_type": "code",
   "execution_count": 184,
   "id": "4bbe52c4",
   "metadata": {},
   "outputs": [
    {
     "data": {
      "text/plain": [
       "500"
      ]
     },
     "execution_count": 184,
     "metadata": {},
     "output_type": "execute_result"
    }
   ],
   "source": [
    "r1._width"
   ]
  },
  {
   "cell_type": "code",
   "execution_count": 187,
   "id": "4d193678",
   "metadata": {},
   "outputs": [],
   "source": [
    "r1=Rectangle(-1000,200)"
   ]
  },
  {
   "cell_type": "code",
   "execution_count": 190,
   "id": "08c8be46",
   "metadata": {},
   "outputs": [
    {
     "name": "stdout",
     "output_type": "stream",
     "text": [
      "Rectangle: width=-1000, height=200\n"
     ]
    }
   ],
   "source": [
    "print(r1)"
   ]
  },
  {
   "cell_type": "code",
   "execution_count": 191,
   "id": "833f1c89",
   "metadata": {},
   "outputs": [
    {
     "name": "stdout",
     "output_type": "stream",
     "text": [
      "getting width\n"
     ]
    },
    {
     "data": {
      "text/plain": [
       "-1000"
      ]
     },
     "execution_count": 191,
     "metadata": {},
     "output_type": "execute_result"
    }
   ],
   "source": [
    "r1.width"
   ]
  },
  {
   "cell_type": "code",
   "execution_count": null,
   "id": "6a76bb50",
   "metadata": {},
   "outputs": [],
   "source": []
  },
  {
   "cell_type": "markdown",
   "id": "2effc775",
   "metadata": {},
   "source": [
    "### See we are still able to instantiate with function call and passing the negative arguments."
   ]
  },
  {
   "cell_type": "code",
   "execution_count": 196,
   "id": "e262eda4",
   "metadata": {},
   "outputs": [],
   "source": [
    "class Rectangle:\n",
    "    def __init__(self, width, height):\n",
    "        self.widthe = width    # This is calling the widthe method directly\n",
    "        self.height = height   \n",
    "    \n",
    "    @property\n",
    "    def widthe(self):\n",
    "        print('getting width')\n",
    "        return self._width\n",
    "    \n",
    "    @widthe.setter\n",
    "    def widthe(self,width):\n",
    "        print('setting width')\n",
    "        if width<=0:\n",
    "            raise ValueError('Width must be positive.')\n",
    "        else:\n",
    "            self._width=width\n",
    "    \n",
    "    @property\n",
    "    def height(self):\n",
    "        return self._height\n",
    "    \n",
    "    \n",
    "    @height.setter\n",
    "    def height(self,height):\n",
    "        print('setting height')\n",
    "        if height<=0:\n",
    "            raise ValueError('Width must be positive.')\n",
    "        else:\n",
    "            self._height=height\n",
    "    \n",
    "    def __str__(self):\n",
    "        return 'Rectangle: width={0}, height={1}'.format(self._width, self._height)\n",
    "        "
   ]
  },
  {
   "cell_type": "code",
   "execution_count": 197,
   "id": "51abccb4",
   "metadata": {},
   "outputs": [
    {
     "name": "stdout",
     "output_type": "stream",
     "text": [
      "setting width\n",
      "setting height\n"
     ]
    }
   ],
   "source": [
    "r1=Rectangle(5000,200)"
   ]
  },
  {
   "cell_type": "code",
   "execution_count": 198,
   "id": "2bbcdc5f",
   "metadata": {},
   "outputs": [
    {
     "name": "stdout",
     "output_type": "stream",
     "text": [
      "getting width\n"
     ]
    },
    {
     "data": {
      "text/plain": [
       "5000"
      ]
     },
     "execution_count": 198,
     "metadata": {},
     "output_type": "execute_result"
    }
   ],
   "source": [
    "r1.widthe  # Here we are calling method directly at init step itself"
   ]
  },
  {
   "cell_type": "code",
   "execution_count": 199,
   "id": "0aa354f6",
   "metadata": {},
   "outputs": [
    {
     "ename": "AttributeError",
     "evalue": "'Rectangle' object has no attribute 'width'",
     "output_type": "error",
     "traceback": [
      "\u001b[1;31m---------------------------------------------------------------------------\u001b[0m",
      "\u001b[1;31mAttributeError\u001b[0m                            Traceback (most recent call last)",
      "\u001b[1;32m~\\AppData\\Local\\Temp\\ipykernel_72764\\1593395459.py\u001b[0m in \u001b[0;36m<module>\u001b[1;34m\u001b[0m\n\u001b[1;32m----> 1\u001b[1;33m \u001b[0mr1\u001b[0m\u001b[1;33m.\u001b[0m\u001b[0mwidth\u001b[0m\u001b[1;33m\u001b[0m\u001b[1;33m\u001b[0m\u001b[0m\n\u001b[0m",
      "\u001b[1;31mAttributeError\u001b[0m: 'Rectangle' object has no attribute 'width'"
     ]
    }
   ],
   "source": [
    "r1.width"
   ]
  },
  {
   "cell_type": "code",
   "execution_count": 200,
   "id": "ea64c09d",
   "metadata": {},
   "outputs": [
    {
     "data": {
      "text/plain": [
       "200"
      ]
     },
     "execution_count": 200,
     "metadata": {},
     "output_type": "execute_result"
    }
   ],
   "source": [
    "r1.height"
   ]
  },
  {
   "cell_type": "code",
   "execution_count": 201,
   "id": "0c48ad6e",
   "metadata": {},
   "outputs": [
    {
     "name": "stdout",
     "output_type": "stream",
     "text": [
      "Rectangle: width=5000, height=200\n"
     ]
    }
   ],
   "source": [
    "print(r1)"
   ]
  },
  {
   "cell_type": "code",
   "execution_count": 202,
   "id": "63df147a",
   "metadata": {},
   "outputs": [
    {
     "name": "stdout",
     "output_type": "stream",
     "text": [
      "setting width\n"
     ]
    },
    {
     "ename": "ValueError",
     "evalue": "Width must be positive.",
     "output_type": "error",
     "traceback": [
      "\u001b[1;31m---------------------------------------------------------------------------\u001b[0m",
      "\u001b[1;31mValueError\u001b[0m                                Traceback (most recent call last)",
      "\u001b[1;32m~\\AppData\\Local\\Temp\\ipykernel_72764\\2089828845.py\u001b[0m in \u001b[0;36m<module>\u001b[1;34m\u001b[0m\n\u001b[1;32m----> 1\u001b[1;33m \u001b[0mr1\u001b[0m\u001b[1;33m=\u001b[0m\u001b[0mRectangle\u001b[0m\u001b[1;33m(\u001b[0m\u001b[1;33m-\u001b[0m\u001b[1;36m5000\u001b[0m\u001b[1;33m,\u001b[0m\u001b[1;36m200\u001b[0m\u001b[1;33m)\u001b[0m\u001b[1;33m\u001b[0m\u001b[1;33m\u001b[0m\u001b[0m\n\u001b[0m",
      "\u001b[1;32m~\\AppData\\Local\\Temp\\ipykernel_72764\\3848333556.py\u001b[0m in \u001b[0;36m__init__\u001b[1;34m(self, width, height)\u001b[0m\n\u001b[0;32m      1\u001b[0m \u001b[1;32mclass\u001b[0m \u001b[0mRectangle\u001b[0m\u001b[1;33m:\u001b[0m\u001b[1;33m\u001b[0m\u001b[1;33m\u001b[0m\u001b[0m\n\u001b[0;32m      2\u001b[0m     \u001b[1;32mdef\u001b[0m \u001b[0m__init__\u001b[0m\u001b[1;33m(\u001b[0m\u001b[0mself\u001b[0m\u001b[1;33m,\u001b[0m \u001b[0mwidth\u001b[0m\u001b[1;33m,\u001b[0m \u001b[0mheight\u001b[0m\u001b[1;33m)\u001b[0m\u001b[1;33m:\u001b[0m\u001b[1;33m\u001b[0m\u001b[1;33m\u001b[0m\u001b[0m\n\u001b[1;32m----> 3\u001b[1;33m         \u001b[0mself\u001b[0m\u001b[1;33m.\u001b[0m\u001b[0mwidthe\u001b[0m \u001b[1;33m=\u001b[0m \u001b[0mwidth\u001b[0m    \u001b[1;31m# This is calling the width method directly\u001b[0m\u001b[1;33m\u001b[0m\u001b[1;33m\u001b[0m\u001b[0m\n\u001b[0m\u001b[0;32m      4\u001b[0m         \u001b[0mself\u001b[0m\u001b[1;33m.\u001b[0m\u001b[0mheight\u001b[0m \u001b[1;33m=\u001b[0m \u001b[0mheight\u001b[0m\u001b[1;33m\u001b[0m\u001b[1;33m\u001b[0m\u001b[0m\n\u001b[0;32m      5\u001b[0m \u001b[1;33m\u001b[0m\u001b[0m\n",
      "\u001b[1;32m~\\AppData\\Local\\Temp\\ipykernel_72764\\3848333556.py\u001b[0m in \u001b[0;36mwidthe\u001b[1;34m(self, width)\u001b[0m\n\u001b[0;32m     13\u001b[0m         \u001b[0mprint\u001b[0m\u001b[1;33m(\u001b[0m\u001b[1;34m'setting width'\u001b[0m\u001b[1;33m)\u001b[0m\u001b[1;33m\u001b[0m\u001b[1;33m\u001b[0m\u001b[0m\n\u001b[0;32m     14\u001b[0m         \u001b[1;32mif\u001b[0m \u001b[0mwidth\u001b[0m\u001b[1;33m<=\u001b[0m\u001b[1;36m0\u001b[0m\u001b[1;33m:\u001b[0m\u001b[1;33m\u001b[0m\u001b[1;33m\u001b[0m\u001b[0m\n\u001b[1;32m---> 15\u001b[1;33m             \u001b[1;32mraise\u001b[0m \u001b[0mValueError\u001b[0m\u001b[1;33m(\u001b[0m\u001b[1;34m'Width must be positive.'\u001b[0m\u001b[1;33m)\u001b[0m\u001b[1;33m\u001b[0m\u001b[1;33m\u001b[0m\u001b[0m\n\u001b[0m\u001b[0;32m     16\u001b[0m         \u001b[1;32melse\u001b[0m\u001b[1;33m:\u001b[0m\u001b[1;33m\u001b[0m\u001b[1;33m\u001b[0m\u001b[0m\n\u001b[0;32m     17\u001b[0m             \u001b[0mself\u001b[0m\u001b[1;33m.\u001b[0m\u001b[0m_width\u001b[0m\u001b[1;33m=\u001b[0m\u001b[0mwidth\u001b[0m\u001b[1;33m\u001b[0m\u001b[1;33m\u001b[0m\u001b[0m\n",
      "\u001b[1;31mValueError\u001b[0m: Width must be positive."
     ]
    }
   ],
   "source": [
    "r1=Rectangle(-5000,200)"
   ]
  },
  {
   "cell_type": "markdown",
   "id": "c984cfb9",
   "metadata": {},
   "source": [
    "# FInal code correct one which shows self.width=width which is actually correct"
   ]
  },
  {
   "cell_type": "code",
   "execution_count": 204,
   "id": "554b0231",
   "metadata": {},
   "outputs": [],
   "source": [
    "class Rectangle:\n",
    "    def __init__(self, width, height):\n",
    "        self.width = width\n",
    "        self.height = height\n",
    "    \n",
    "    @property\n",
    "    def width(self):\n",
    "        print('getting width')\n",
    "        return self._width\n",
    "    \n",
    "    @width.setter\n",
    "    def width(self, width):\n",
    "        print('setting width')\n",
    "        if width <= 0:\n",
    "            raise ValueError('Width must be positive.')\n",
    "        else:\n",
    "            self._width = width\n",
    "    \n",
    "    @property\n",
    "    def height(self):\n",
    "        print('getting height')\n",
    "        return self._height\n",
    "    \n",
    "    @height.setter\n",
    "    def height(self, height):\n",
    "        print('setting height')\n",
    "        if height <= 0:\n",
    "            raise ValueError('Height must be positive.')\n",
    "        else:\n",
    "            self._height = height\n",
    "    \n",
    "    def __str__(self):\n",
    "        return 'Rectangle: width={0}, height={1}'.format(self._width, self._height)\n"
   ]
  },
  {
   "cell_type": "code",
   "execution_count": 205,
   "id": "8a1d0ecf",
   "metadata": {},
   "outputs": [
    {
     "name": "stdout",
     "output_type": "stream",
     "text": [
      "setting width\n",
      "setting height\n"
     ]
    }
   ],
   "source": [
    "r1=Rectangle(50,20)"
   ]
  },
  {
   "cell_type": "code",
   "execution_count": 206,
   "id": "a6b3ffeb",
   "metadata": {},
   "outputs": [
    {
     "name": "stdout",
     "output_type": "stream",
     "text": [
      "getting width\n"
     ]
    },
    {
     "data": {
      "text/plain": [
       "50"
      ]
     },
     "execution_count": 206,
     "metadata": {},
     "output_type": "execute_result"
    }
   ],
   "source": [
    "r1.width"
   ]
  },
  {
   "cell_type": "code",
   "execution_count": 207,
   "id": "5e12c430",
   "metadata": {},
   "outputs": [
    {
     "name": "stdout",
     "output_type": "stream",
     "text": [
      "getting height\n"
     ]
    },
    {
     "data": {
      "text/plain": [
       "20"
      ]
     },
     "execution_count": 207,
     "metadata": {},
     "output_type": "execute_result"
    }
   ],
   "source": [
    "r1.height"
   ]
  },
  {
   "cell_type": "markdown",
   "id": "a77c9e1a",
   "metadata": {},
   "source": [
    "Property Decorators: @property decorators are used to define width and height as properties. These properties access the private attributes _width and _height, respectively.\n",
    "\n",
    "Setter Methods: @width.setter and @height.setter provide validation checks to ensure that the width and height are positive numbers. If not, a ValueError is raised.\n",
    "\n"
   ]
  },
  {
   "cell_type": "markdown",
   "id": "169b8440",
   "metadata": {},
   "source": [
    "### Inside __init__, self.width = width and self.height = height use the setter methods (@width.setter and @height.setter) to set the initial values for _width and _height."
   ]
  },
  {
   "cell_type": "code",
   "execution_count": null,
   "id": "9872f91e",
   "metadata": {},
   "outputs": [],
   "source": []
  },
  {
   "cell_type": "code",
   "execution_count": null,
   "id": "8edf4989",
   "metadata": {},
   "outputs": [],
   "source": []
  }
 ],
 "metadata": {
  "kernelspec": {
   "display_name": "Python 3 (ipykernel)",
   "language": "python",
   "name": "python3"
  },
  "language_info": {
   "codemirror_mode": {
    "name": "ipython",
    "version": 3
   },
   "file_extension": ".py",
   "mimetype": "text/x-python",
   "name": "python",
   "nbconvert_exporter": "python",
   "pygments_lexer": "ipython3",
   "version": "3.9.13"
  }
 },
 "nbformat": 4,
 "nbformat_minor": 5
}
